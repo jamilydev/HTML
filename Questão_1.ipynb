{
  "nbformat": 4,
  "nbformat_minor": 0,
  "metadata": {
    "colab": {
      "provenance": [],
      "authorship_tag": "ABX9TyNOAAS269AdXM/UZtrcKUAY",
      "include_colab_link": true
    },
    "kernelspec": {
      "name": "python3",
      "display_name": "Python 3"
    },
    "language_info": {
      "name": "python"
    }
  },
  "cells": [
    {
      "cell_type": "markdown",
      "metadata": {
        "id": "view-in-github",
        "colab_type": "text"
      },
      "source": [
        "<a href=\"https://colab.research.google.com/github/jamilydev/HTML/blob/main/Quest%C3%A3o_1.ipynb\" target=\"_parent\"><img src=\"https://colab.research.google.com/assets/colab-badge.svg\" alt=\"Open In Colab\"/></a>"
      ]
    },
    {
      "cell_type": "code",
      "source": [
        "# Questão 1 (Nota 2,0) - Durante as aulas de Introdução à Programação em Python, um\n",
        "# professor do EMC/UFG propôs um desafio para o BIA: estimar o consumo\n",
        "# mensal de energia de aparelhos residenciais, utilizando um modelo\n",
        "# simplificado de cálculo adotado em estudos da unidade KWhResidencial/30.\n",
        "# Sabendo que:\n",
        "# Consumo mensal (kWh) = Potência (kW) × Horas por dia × 30\n",
        "# Você deverá implementar um programa que siga os princípios reforçados no nosso material\n",
        "# online de aula, especialmente em relação à clareza, estrutura e reaproveitamento de\n",
        "# código.\n",
        "# O programa deve:\n",
        "# a) Solicitar ao usuário dois valores:\n",
        "# • a potência do aparelho em kW (ex: 1.2)\n",
        "# • o tempo médio de uso diário em horas (ex: 4)\n",
        "# b) Garantir que ambos os valores inseridos sejam positivos e realistas. Caso contrário,\n",
        "# exiba uma mensagem de erro compatível com os exemplos e estilo das aulas.\n",
        "# c) Criar uma função chamada calcular_consumo_mensal(pot, horas) que realize o cálculo\n",
        "# e retorne o consumo mensal estimado.\n",
        "# d) Apresentar os resultados de forma clara para o usuário.\n"
      ],
      "metadata": {
        "id": "y8qlW2exNLWD"
      },
      "execution_count": null,
      "outputs": []
    },
    {
      "cell_type": "code",
      "source": [
        "def calcular_consumo_mensal(pot, horas):\n",
        "  consumo = pot * horas * 30\n",
        "  return consumo\n",
        "print(\"\\t======================================\")\n",
        "print(\"\\t| Calculadora de Consumo de Energia💡|\")\n",
        "print(\"\\t======================================\\n\\n\")\n",
        "\n",
        "pot = float(input('\\ndigite a potência do aparelho (em kW):\\t'))\n",
        "horas = float(input('\\ndigite o tempo médio de uso diário (em horas):\\t'))\n",
        "\n",
        "if pot <= 0 and horas <= 0:\n",
        "  print(\"\\n❌ Os valores informados devem ser realistas.\")\n",
        "  print(\"Por favor, tente novamente com dados válidos.\")\n",
        "\n",
        "consumo = calcular_consumo_mensal(pot, horas)\n",
        "print(\"\\n📊 Resultado:\")\n",
        "print(f\"\\nO consumo mensal estimado do aparelho é de {consumo:.2f} kWh.\")\n",
        "print(\"\\nObrigado por utilizar a calculadora de energia!\")"
      ],
      "metadata": {
        "colab": {
          "base_uri": "https://localhost:8080/"
        },
        "id": "LbgGoaypOgRT",
        "outputId": "c0f8f35c-930d-4bd8-98d5-1f8cf150c2c4"
      },
      "execution_count": null,
      "outputs": [
        {
          "output_type": "stream",
          "name": "stdout",
          "text": [
            "\t======================================\n",
            "\t| Calculadora de Consumo de Energia💡|\n",
            "\t======================================\n",
            "\n",
            "\n",
            "\n",
            "digite a potência do aparelho (em kW):\t1\n",
            "\n",
            "digite o tempo médio de uso diário (em horas):\t2\n",
            "\n",
            "📊 Resultado:\n",
            "\n",
            "O consumo mensal estimado do aparelho é de 60.00 kWh.\n",
            "\n",
            "Obrigado por utilizar a calculadora de energia!\n"
          ]
        }
      ]
    },
    {
      "cell_type": "code",
      "source": [
        "# a)\n",
        "# solicito o valor da potencia e do tempo medio para o usuario utilizando o input\n",
        "#\n",
        "\n",
        "pot = float(input('digite a potência do aparelho em kW\\t'))\n",
        "horas = float(input('digite o tempo médio de uso diário em horas\\t'))"
      ],
      "metadata": {
        "id": "03aesGzHKN5d"
      },
      "execution_count": null,
      "outputs": []
    },
    {
      "cell_type": "code",
      "source": [
        "# b)\n",
        "\n",
        "if pot <= 0 and horas < 0:\n",
        "  print('os valores devem ser realistas')\n"
      ],
      "metadata": {
        "id": "qG4kGPZmLpAr"
      },
      "execution_count": null,
      "outputs": []
    },
    {
      "cell_type": "code",
      "source": [
        "# c)\n",
        "\n",
        "def calcular_consumo_mensal(pot, horas):\n",
        "  consumo = pot * horas * 30\n",
        "  return consumo"
      ],
      "metadata": {
        "id": "WtaAIt-7P4EF"
      },
      "execution_count": null,
      "outputs": []
    },
    {
      "cell_type": "code",
      "source": [
        "# d)\n",
        "\n",
        "print(f\"\\nO consumo mensal estimado do aparelho é de {consumo:.2f} kWh.\")"
      ],
      "metadata": {
        "colab": {
          "base_uri": "https://localhost:8080/"
        },
        "id": "C0qK54uLSx7H",
        "outputId": "6a4e309d-7484-49e4-daf8-5b463327db6e"
      },
      "execution_count": null,
      "outputs": [
        {
          "output_type": "stream",
          "name": "stdout",
          "text": [
            "\n",
            "O consumo mensal estimado do aparelho é de 180.00 kWh.\n"
          ]
        }
      ]
    }
  ]
}